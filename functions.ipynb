{
 "cells": [
  {
   "cell_type": "markdown",
   "metadata": {},
   "source": [
    "# Functions\n",
    "Functions are a way to achieve modularity and reusability in code."
   ]
  },
  {
   "cell_type": "markdown",
   "metadata": {},
   "source": [
    "## Modularity\n",
    "Modular programming is the process of subdividing a computer into separate sub-programs. A module can often be used in a variety of applications and functions with other components of the system."
   ]
  },
  {
   "cell_type": "markdown",
   "metadata": {},
   "source": [
    "## Reusability\n",
    "Using of already developed code according to our requirement without writing from scratch."
   ]
  },
  {
   "cell_type": "code",
   "execution_count": 4,
   "metadata": {},
   "outputs": [
    {
     "name": "stdout",
     "output_type": "stream",
     "text": [
      "A line before function\n",
      "A line after function\n"
     ]
    }
   ],
   "source": [
    "print(\"A line before function\")\n",
    "def add():\n",
    "    print(12 + 5)\n",
    "print(\"A line after function\")"
   ]
  },
  {
   "cell_type": "code",
   "execution_count": 2,
   "metadata": {},
   "outputs": [
    {
     "name": "stdout",
     "output_type": "stream",
     "text": [
      "17\n"
     ]
    }
   ],
   "source": [
    "add()"
   ]
  },
  {
   "cell_type": "code",
   "execution_count": 5,
   "metadata": {},
   "outputs": [],
   "source": [
    "def add(): # parameter less function\n",
    "    print(\"I am a parameter less function\")"
   ]
  },
  {
   "cell_type": "code",
   "execution_count": 6,
   "metadata": {},
   "outputs": [
    {
     "name": "stdout",
     "output_type": "stream",
     "text": [
      "I am a parameter less function\n"
     ]
    }
   ],
   "source": [
    "add()"
   ]
  },
  {
   "cell_type": "code",
   "execution_count": 11,
   "metadata": {},
   "outputs": [],
   "source": [
    "def add(a, b): # parameterized function\n",
    "    \"\"\"\n",
    "        Add two values together and print its sum\n",
    "    \"\"\"\n",
    "    print(a + b)"
   ]
  },
  {
   "cell_type": "markdown",
   "metadata": {},
   "source": [
    "## Positional arguments"
   ]
  },
  {
   "cell_type": "code",
   "execution_count": 8,
   "metadata": {},
   "outputs": [
    {
     "name": "stdout",
     "output_type": "stream",
     "text": [
      "30\n"
     ]
    }
   ],
   "source": [
    "# sequence matters in positional arguments\n",
    "add(10, 20) # arguments"
   ]
  },
  {
   "cell_type": "code",
   "execution_count": 9,
   "metadata": {},
   "outputs": [
    {
     "name": "stdout",
     "output_type": "stream",
     "text": [
      "600\n"
     ]
    }
   ],
   "source": [
    "add(100, 500)"
   ]
  },
  {
   "cell_type": "code",
   "execution_count": null,
   "metadata": {},
   "outputs": [],
   "source": [
    "# Use shift + tab to check how to use the add function\n",
    "add()"
   ]
  },
  {
   "cell_type": "markdown",
   "metadata": {},
   "source": [
    "## Passing information using keyword arguments"
   ]
  },
  {
   "cell_type": "code",
   "execution_count": 13,
   "metadata": {},
   "outputs": [],
   "source": [
    "def full_name(first, middle, last):\n",
    "    print(first + middle + last)"
   ]
  },
  {
   "cell_type": "code",
   "execution_count": 16,
   "metadata": {},
   "outputs": [
    {
     "name": "stdout",
     "output_type": "stream",
     "text": [
      "AbdulFatir\n"
     ]
    }
   ],
   "source": [
    "full_name('Abdul', '', 'Fatir')"
   ]
  },
  {
   "cell_type": "code",
   "execution_count": 17,
   "metadata": {},
   "outputs": [
    {
     "name": "stdout",
     "output_type": "stream",
     "text": [
      "AbdulFatir\n"
     ]
    }
   ],
   "source": [
    "# keyword arguments\n",
    "full_name(middle = '', last = 'Fatir', first = 'Abdul')"
   ]
  },
  {
   "cell_type": "code",
   "execution_count": 19,
   "metadata": {},
   "outputs": [
    {
     "name": "stdout",
     "output_type": "stream",
     "text": [
      "AbdulFatir\n"
     ]
    }
   ],
   "source": [
    "# keyword argument needs to always be after positional arguments\n",
    "# full_name(last = '', 'Abdul', 'Fatir')  # this will throw a syntax error\n",
    "full_name('Abdul', 'Fatir', last='')"
   ]
  },
  {
   "cell_type": "markdown",
   "metadata": {},
   "source": [
    "## Default value parameters\n",
    "There are times when some parameter value are optional but still you need a default value in case if someone does not provide the value to avoid any non deterministic behaviors.e.g.\n",
    "add(number2 = 5)"
   ]
  },
  {
   "cell_type": "code",
   "execution_count": 26,
   "metadata": {},
   "outputs": [],
   "source": [
    "def full_name(first, middle, last):\n",
    "    print(first + middle + last)"
   ]
  },
  {
   "cell_type": "code",
   "execution_count": 27,
   "metadata": {
    "collapsed": true
   },
   "outputs": [
    {
     "ename": "TypeError",
     "evalue": "full_name() missing 1 required positional argument: 'last'",
     "output_type": "error",
     "traceback": [
      "\u001b[1;31m---------------------------------------------------------------------------\u001b[0m",
      "\u001b[1;31mTypeError\u001b[0m                                 Traceback (most recent call last)",
      "\u001b[1;32m<ipython-input-27-df53835a8280>\u001b[0m in \u001b[0;36m<module>\u001b[1;34m\u001b[0m\n\u001b[0;32m      1\u001b[0m \u001b[1;31m# Let's assume someone either don't have middle or last name\u001b[0m\u001b[1;33m\u001b[0m\u001b[1;33m\u001b[0m\u001b[1;33m\u001b[0m\u001b[0m\n\u001b[1;32m----> 2\u001b[1;33m \u001b[0mfull_name\u001b[0m\u001b[1;33m(\u001b[0m\u001b[1;34m'Abdul'\u001b[0m\u001b[1;33m,\u001b[0m \u001b[1;34m'Fatir'\u001b[0m\u001b[1;33m)\u001b[0m  \u001b[1;31m# this will cause a TypeError, full_name missing 1 required positional argument: 'last'\u001b[0m\u001b[1;33m\u001b[0m\u001b[1;33m\u001b[0m\u001b[0m\n\u001b[0m",
      "\u001b[1;31mTypeError\u001b[0m: full_name() missing 1 required positional argument: 'last'"
     ]
    }
   ],
   "source": [
    "# Let's assume someone either don't have middle or last name\n",
    "full_name('Abdul', 'Fatir')  # this will cause a TypeError, full_name missing 1 required positional argument: 'last'"
   ]
  },
  {
   "cell_type": "code",
   "execution_count": 28,
   "metadata": {},
   "outputs": [],
   "source": [
    "def full_name(first, last, middle = ' '):\n",
    "    print(first + middle + last)"
   ]
  },
  {
   "cell_type": "code",
   "execution_count": 29,
   "metadata": {},
   "outputs": [
    {
     "name": "stdout",
     "output_type": "stream",
     "text": [
      "Abdul Fatir\n"
     ]
    }
   ],
   "source": [
    "full_name('Abdul', 'Fatir')"
   ]
  },
  {
   "cell_type": "code",
   "execution_count": 30,
   "metadata": {},
   "outputs": [
    {
     "name": "stdout",
     "output_type": "stream",
     "text": [
      "AbdulFatir\n"
     ]
    }
   ],
   "source": [
    "full_name('Abdul', 'Fatir', '')"
   ]
  },
  {
   "cell_type": "markdown",
   "metadata": {},
   "source": [
    "## Dealing with an unknown number of arguments"
   ]
  },
  {
   "cell_type": "code",
   "execution_count": 31,
   "metadata": {},
   "outputs": [],
   "source": [
    "def order_pizza(size, flavour, toppings):\n",
    "    print(f'your order for pizza of size {size}, and flavour {flavour} and toppings {toppings} is ready!')"
   ]
  },
  {
   "cell_type": "code",
   "execution_count": 32,
   "metadata": {},
   "outputs": [
    {
     "name": "stdout",
     "output_type": "stream",
     "text": [
      "your order for pizza of size 12, and flavour Chicken Tikka and toppings Olives is ready!\n"
     ]
    }
   ],
   "source": [
    "order_pizza(12, 'Chicken Tikka', 'Olives')"
   ]
  },
  {
   "cell_type": "code",
   "execution_count": 33,
   "metadata": {},
   "outputs": [],
   "source": [
    "# If you want to have multiple toppings and you don't know how many toppings will be added\n",
    "# Arbitrary parameter should be the last parameter\n",
    "def order_pizza(size, flavour, *toppings):  # * deals with arbitrary number of arguments\n",
    "    print(f'your order for pizza of size {size}, and flavour {flavour} and toppings {toppings} is ready!')"
   ]
  },
  {
   "cell_type": "code",
   "execution_count": 35,
   "metadata": {},
   "outputs": [
    {
     "name": "stdout",
     "output_type": "stream",
     "text": [
      "your order for pizza of size 12, and flavour Chicken Tikka and toppings ('Olives', 'Fruits', 'abcd', 'xyz', 13) is ready!\n"
     ]
    }
   ],
   "source": [
    "# Arbitrary argument is treated as a tuple\n",
    "order_pizza(12, 'Chicken Tikka', 'Olives', 'Fruits', 'abcd', 'xyz')"
   ]
  },
  {
   "cell_type": "markdown",
   "metadata": {},
   "source": [
    "## Passing information back from function"
   ]
  },
  {
   "cell_type": "code",
   "execution_count": 37,
   "metadata": {},
   "outputs": [],
   "source": [
    "def add(val1, val2):\n",
    "    sum = val1 + val2\n",
    "    return sum"
   ]
  },
  {
   "cell_type": "code",
   "execution_count": 39,
   "metadata": {},
   "outputs": [
    {
     "data": {
      "text/plain": [
       "6"
      ]
     },
     "execution_count": 39,
     "metadata": {},
     "output_type": "execute_result"
    }
   ],
   "source": [
    "result = add(2, 4)\n",
    "result"
   ]
  },
  {
   "cell_type": "code",
   "execution_count": 40,
   "metadata": {},
   "outputs": [],
   "source": [
    "def add(val1, val2):\n",
    "    sum = val1 + val2\n",
    "    return sum, 'Hello Function'"
   ]
  },
  {
   "cell_type": "code",
   "execution_count": 41,
   "metadata": {},
   "outputs": [
    {
     "data": {
      "text/plain": [
       "(6, 'Hello Function')"
      ]
     },
     "execution_count": 41,
     "metadata": {},
     "output_type": "execute_result"
    }
   ],
   "source": [
    "result = add(2, 4)\n",
    "result"
   ]
  },
  {
   "cell_type": "markdown",
   "metadata": {},
   "source": [
    "## Using functions as variables"
   ]
  },
  {
   "cell_type": "code",
   "execution_count": 43,
   "metadata": {},
   "outputs": [
    {
     "data": {
      "text/plain": [
       "6"
      ]
     },
     "execution_count": 43,
     "metadata": {},
     "output_type": "execute_result"
    }
   ],
   "source": [
    "def add(a, b):\n",
    "    return a + b\n",
    "\n",
    "def sub(b, a):\n",
    "    return a - b\n",
    "\n",
    "# You can think of the below statement as\n",
    "# result = variable1 + variable 2\n",
    "result = add(2, 3) + sub(2, 3)\n",
    "# 6         5      +     1\n",
    "result"
   ]
  },
  {
   "cell_type": "code",
   "execution_count": 45,
   "metadata": {
    "collapsed": true
   },
   "outputs": [
    {
     "name": "stdout",
     "output_type": "stream",
     "text": [
      "\n"
     ]
    },
    {
     "ename": "TypeError",
     "evalue": "unsupported operand type(s) for +: 'NoneType' and 'int'",
     "output_type": "error",
     "traceback": [
      "\u001b[1;31m---------------------------------------------------------------------------\u001b[0m",
      "\u001b[1;31mTypeError\u001b[0m                                 Traceback (most recent call last)",
      "\u001b[1;32m<ipython-input-45-80e164caa1f4>\u001b[0m in \u001b[0;36m<module>\u001b[1;34m\u001b[0m\n\u001b[0;32m     10\u001b[0m \u001b[1;31m# You can think of the below statement as\u001b[0m\u001b[1;33m\u001b[0m\u001b[1;33m\u001b[0m\u001b[1;33m\u001b[0m\u001b[0m\n\u001b[0;32m     11\u001b[0m \u001b[1;31m# result = variable1 + variable 2\u001b[0m\u001b[1;33m\u001b[0m\u001b[1;33m\u001b[0m\u001b[1;33m\u001b[0m\u001b[0m\n\u001b[1;32m---> 12\u001b[1;33m \u001b[0mresult\u001b[0m \u001b[1;33m=\u001b[0m \u001b[0madd\u001b[0m\u001b[1;33m(\u001b[0m\u001b[1;36m2\u001b[0m\u001b[1;33m,\u001b[0m \u001b[1;36m3\u001b[0m\u001b[1;33m)\u001b[0m \u001b[1;33m+\u001b[0m \u001b[0msub\u001b[0m\u001b[1;33m(\u001b[0m\u001b[1;36m2\u001b[0m\u001b[1;33m,\u001b[0m \u001b[1;36m3\u001b[0m\u001b[1;33m)\u001b[0m\u001b[1;33m\u001b[0m\u001b[1;33m\u001b[0m\u001b[0m\n\u001b[0m\u001b[0;32m     13\u001b[0m \u001b[1;31m# 6         int      +     None\u001b[0m\u001b[1;33m\u001b[0m\u001b[1;33m\u001b[0m\u001b[1;33m\u001b[0m\u001b[0m\n\u001b[0;32m     14\u001b[0m \u001b[0mresult\u001b[0m\u001b[1;33m\u001b[0m\u001b[1;33m\u001b[0m\u001b[0m\n",
      "\u001b[1;31mTypeError\u001b[0m: unsupported operand type(s) for +: 'NoneType' and 'int'"
     ]
    }
   ],
   "source": [
    "# Will generate a TypeError: unsupported operant type(s)\n",
    "# for +: 'NoneType' and 'int'\n",
    "\n",
    "def add(a, b):\n",
    "    print('')\n",
    "\n",
    "def sub(b, a):\n",
    "    return a - b\n",
    "\n",
    "# You can think of the below statement as\n",
    "# result = variable1 + variable 2\n",
    "result = add(2, 3) + sub(2, 3)\n",
    "# 6         int      +     None\n",
    "result"
   ]
  },
  {
   "cell_type": "markdown",
   "metadata": {},
   "source": [
    "## Local vs. Global variables\n",
    "**Local** variable are the variable defined inside the functions. There scope is only inside the function. They are not accessible outside the function.\n",
    "\n",
    "**Global** variables are the variables defined outside the function and can be accessed and modified in and outside the function"
   ]
  },
  {
   "cell_type": "code",
   "execution_count": 46,
   "metadata": {},
   "outputs": [],
   "source": [
    "def happy():\n",
    "    name = 'Mr. A'  # local variable\n",
    "    print(f'{name} is very happy today')"
   ]
  },
  {
   "cell_type": "code",
   "execution_count": 47,
   "metadata": {},
   "outputs": [
    {
     "name": "stdout",
     "output_type": "stream",
     "text": [
      "Mr. A is very happy today\n"
     ]
    }
   ],
   "source": [
    "happy()\n",
    "\n",
    "# print(name) # this will generate NameError as the variable name is not defined in this scope"
   ]
  },
  {
   "cell_type": "code",
   "execution_count": 48,
   "metadata": {},
   "outputs": [],
   "source": [
    "person = 'Mr. B'  # global variable, this variable is accessible inside the function as well as outside the function\n",
    "\n",
    "def sad():\n",
    "    print(f'{person} is very sad today')"
   ]
  },
  {
   "cell_type": "code",
   "execution_count": 50,
   "metadata": {},
   "outputs": [
    {
     "name": "stdout",
     "output_type": "stream",
     "text": [
      "Mr. B is very sad today\n",
      "Mr. B\n"
     ]
    }
   ],
   "source": [
    "sad()\n",
    "\n",
    "print(person)"
   ]
  },
  {
   "cell_type": "markdown",
   "metadata": {},
   "source": [
    "## Functions within functions\n",
    "Call a function inside another function"
   ]
  },
  {
   "cell_type": "code",
   "execution_count": 53,
   "metadata": {},
   "outputs": [],
   "source": [
    "def commission_calculator(sales):\n",
    "    if sales > 100:\n",
    "        return sales * 100\n",
    "    elif sales <= 50:\n",
    "        return sales * 50\n",
    "    elif sales <= 20:\n",
    "        return sales * 20\n",
    "    else:\n",
    "        return 0\n",
    "\n",
    "def salary_calculator(basic, sales):\n",
    "    gross_salary = basic + commission_calculator(sales)\n",
    "    print(f'Your gross salary is {gross_salary}')"
   ]
  },
  {
   "cell_type": "code",
   "execution_count": 57,
   "metadata": {},
   "outputs": [
    {
     "name": "stdout",
     "output_type": "stream",
     "text": [
      "Your gross salary is 65000\n"
     ]
    }
   ],
   "source": [
    "salary_calculator(50000, 150)"
   ]
  },
  {
   "cell_type": "code",
   "execution_count": 4,
   "metadata": {},
   "outputs": [
    {
     "name": "stdout",
     "output_type": "stream",
     "text": [
      "Enter first number:12\n",
      "Enter first number:5\n",
      "12 is not completely divisible by 5, remainder: 2. Result: False\n"
     ]
    }
   ],
   "source": [
    "num1 = int(input(\"Enter first number:\"))\n",
    "num2 = int(input(\"Enter first number:\"))\n",
    "def div(num1, num2):\n",
    "    remainder = num1 % num2\n",
    "    result = remainder == 0\n",
    "    if result == True:\n",
    "        print(f\"{num1} is completely divisible by {num2}, remainder: {remainder}. Result: {result}\")\n",
    "    else:\n",
    "        print(f\"{num1} is not completely divisible by {num2}, remainder: {remainder}. Result: {result}\")\n",
    "div(num1, num2)"
   ]
  }
 ],
 "metadata": {
  "kernelspec": {
   "display_name": "Python 3",
   "language": "python",
   "name": "python3"
  },
  "language_info": {
   "codemirror_mode": {
    "name": "ipython",
    "version": 3
   },
   "file_extension": ".py",
   "mimetype": "text/x-python",
   "name": "python",
   "nbconvert_exporter": "python",
   "pygments_lexer": "ipython3",
   "version": "3.7.3"
  }
 },
 "nbformat": 4,
 "nbformat_minor": 2
}
