{
 "cells": [
  {
   "cell_type": "markdown",
   "metadata": {},
   "source": [
    "# Pandas"
   ]
  },
  {
   "cell_type": "code",
   "execution_count": null,
   "metadata": {},
   "outputs": [],
   "source": [
    "!python -m pip install pandas"
   ]
  },
  {
   "cell_type": "code",
   "execution_count": 2,
   "metadata": {},
   "outputs": [],
   "source": [
    "import pandas as pd"
   ]
  },
  {
   "cell_type": "code",
   "execution_count": 4,
   "metadata": {},
   "outputs": [
    {
     "data": {
      "text/plain": [
       "0    4\n",
       "1    7\n",
       "2   -5\n",
       "3    3\n",
       "dtype: int64"
      ]
     },
     "execution_count": 4,
     "metadata": {},
     "output_type": "execute_result"
    }
   ],
   "source": [
    "obj = pd.Series([4, 7, -5, 3])\n",
    "obj"
   ]
  },
  {
   "cell_type": "code",
   "execution_count": 10,
   "metadata": {},
   "outputs": [],
   "source": [
    "obj.get(4)"
   ]
  },
  {
   "cell_type": "markdown",
   "metadata": {},
   "source": [
    "## Values and Index"
   ]
  },
  {
   "cell_type": "code",
   "execution_count": 14,
   "metadata": {},
   "outputs": [
    {
     "name": "stdout",
     "output_type": "stream",
     "text": [
      "[100 200 100 400]\n",
      "RangeIndex(start=0, stop=4, step=1)\n"
     ]
    }
   ],
   "source": [
    "sales = pd.Series([100, 200, 100, 400])\n",
    "print(sales.values)\n",
    "print(sales.index)"
   ]
  },
  {
   "cell_type": "code",
   "execution_count": 17,
   "metadata": {},
   "outputs": [
    {
     "name": "stdout",
     "output_type": "stream",
     "text": [
      "Jan    100\n",
      "Feb    200\n",
      "Mar    100\n",
      "Apr    400\n",
      "dtype: int64\n",
      "[100 200 100 400]\n",
      "Index(['Jan', 'Feb', 'Mar', 'Apr'], dtype='object')\n"
     ]
    }
   ],
   "source": [
    "sales = pd.Series([100, 200, 100, 400], index = ['Jan', 'Feb', 'Mar', 'Apr'])\n",
    "print(sales)\n",
    "print(sales.values)\n",
    "print(sales.index)"
   ]
  },
  {
   "cell_type": "code",
   "execution_count": 44,
   "metadata": {},
   "outputs": [
    {
     "name": "stdout",
     "output_type": "stream",
     "text": [
      "Jan    100\n",
      "Feb    200\n",
      "Mar    100\n",
      "Apr    400\n",
      "Name: 4 Month Sales, dtype: int64\n"
     ]
    }
   ],
   "source": [
    "sales = pd.Series([100, 200, 100, 400], index = ['Jan', 'Feb', 'Mar', 'Apr'], name = \"4 Month Sales\")\n",
    "print(sales)"
   ]
  },
  {
   "cell_type": "markdown",
   "metadata": {},
   "source": [
    "### Accessing Data"
   ]
  },
  {
   "cell_type": "code",
   "execution_count": 46,
   "metadata": {},
   "outputs": [
    {
     "name": "stdout",
     "output_type": "stream",
     "text": [
      "100\n",
      "100\n",
      "100\n",
      "100\n",
      "None\n"
     ]
    }
   ],
   "source": [
    "print(sales[0])\n",
    "print(sales.get(0))\n",
    "print(sales['Jan'])\n",
    "print(sales.get('Jan'))\n",
    "# print(sales[4]) # will through error index out of bounds\n",
    "# print(sales['May']) # will through key error\n",
    "print(sales.get('May'))   # Returns None instead of error"
   ]
  },
  {
   "cell_type": "markdown",
   "metadata": {},
   "source": [
    "### Create a Series which contains how many sandwiches are sold each day in a week"
   ]
  },
  {
   "cell_type": "code",
   "execution_count": 56,
   "metadata": {
    "scrolled": true
   },
   "outputs": [
    {
     "data": {
      "text/plain": [
       "Mon     10\n",
       "Tue     20\n",
       "Wed     30\n",
       "Thur    40\n",
       "Fri     20\n",
       "Sat     50\n",
       "Sun     55\n",
       "Name: Sales/Day, dtype: int64"
      ]
     },
     "execution_count": 56,
     "metadata": {},
     "output_type": "execute_result"
    }
   ],
   "source": [
    "sales = pd.Series([10, 20, 30, 40, 20, 50, 55], index = ['Mon', 'Tue', 'Wed', 'Thur', 'Fri', 'Sat', 'Sun'], name = 'Sales/Day')\n",
    "sales"
   ]
  },
  {
   "cell_type": "markdown",
   "metadata": {},
   "source": [
    "## Selecting multiple elements"
   ]
  },
  {
   "cell_type": "code",
   "execution_count": 58,
   "metadata": {},
   "outputs": [
    {
     "name": "stdout",
     "output_type": "stream",
     "text": [
      "Thur    40\n",
      "Sat     50\n",
      "Name: Sales/Day, dtype: int64\n",
      "Tue     20\n",
      "Thur    40\n",
      "Name: Sales/Day, dtype: int64\n"
     ]
    }
   ],
   "source": [
    "print(sales[[3, 5]])\n",
    "print(sales[['Tue', 'Thur']])"
   ]
  },
  {
   "cell_type": "markdown",
   "metadata": {},
   "source": [
    "### Conditional Selection"
   ]
  },
  {
   "cell_type": "code",
   "execution_count": 59,
   "metadata": {},
   "outputs": [
    {
     "name": "stdout",
     "output_type": "stream",
     "text": [
      "Wed     30\n",
      "Thur    40\n",
      "Sat     50\n",
      "Sun     55\n",
      "Name: Sales/Day, dtype: int64\n"
     ]
    }
   ],
   "source": [
    "print(sales[sales > 20])"
   ]
  },
  {
   "cell_type": "markdown",
   "metadata": {},
   "source": [
    "## Arithematic Operations"
   ]
  },
  {
   "cell_type": "code",
   "execution_count": 61,
   "metadata": {},
   "outputs": [
    {
     "data": {
      "text/plain": [
       "Mon     10\n",
       "Tue     20\n",
       "Wed     30\n",
       "Thur    40\n",
       "Fri     20\n",
       "Sat     50\n",
       "Sun     55\n",
       "Name: Sales/Day, dtype: int64"
      ]
     },
     "execution_count": 61,
     "metadata": {},
     "output_type": "execute_result"
    }
   ],
   "source": [
    "# Series are immutable\n",
    "sales * 2\n",
    "sales"
   ]
  },
  {
   "cell_type": "code",
   "execution_count": 62,
   "metadata": {},
   "outputs": [
    {
     "data": {
      "text/plain": [
       "Mon      20\n",
       "Tue      40\n",
       "Wed      60\n",
       "Thur     80\n",
       "Fri      40\n",
       "Sat     100\n",
       "Sun     110\n",
       "Name: Sales/Day, dtype: int64"
      ]
     },
     "execution_count": 62,
     "metadata": {},
     "output_type": "execute_result"
    }
   ],
   "source": [
    "sales = sales * 2\n",
    "sales"
   ]
  },
  {
   "cell_type": "code",
   "execution_count": 63,
   "metadata": {},
   "outputs": [
    {
     "data": {
      "text/plain": [
       "Mon     10.0\n",
       "Tue     20.0\n",
       "Wed     30.0\n",
       "Thur    40.0\n",
       "Fri     20.0\n",
       "Sat     50.0\n",
       "Sun     55.0\n",
       "Name: Sales/Day, dtype: float64"
      ]
     },
     "execution_count": 63,
     "metadata": {},
     "output_type": "execute_result"
    }
   ],
   "source": [
    "# Notice data has changed into float from int\n",
    "sales = sales / 2\n",
    "sales"
   ]
  },
  {
   "cell_type": "markdown",
   "metadata": {},
   "source": [
    "## Check if a Property Exist"
   ]
  },
  {
   "cell_type": "code",
   "execution_count": 69,
   "metadata": {},
   "outputs": [
    {
     "data": {
      "text/plain": [
       "True"
      ]
     },
     "execution_count": 69,
     "metadata": {},
     "output_type": "execute_result"
    }
   ],
   "source": [
    "'Mon' in sales"
   ]
  },
  {
   "cell_type": "markdown",
   "metadata": {},
   "source": [
    "### Using numpy with pandas"
   ]
  },
  {
   "cell_type": "code",
   "execution_count": 70,
   "metadata": {},
   "outputs": [
    {
     "data": {
      "text/plain": [
       "Mon       2\n",
       "Tues      3\n",
       "Wednes    4\n",
       "Thurs     5\n",
       "Fri       6\n",
       "dtype: int32"
      ]
     },
     "execution_count": 70,
     "metadata": {},
     "output_type": "execute_result"
    }
   ],
   "source": [
    "import numpy as np\n",
    "data = np.array([2, 3, 4, 5, 6])\n",
    "indices = np.array(['Mon', 'Tues', 'Wednes', 'Thurs', 'Fri'])\n",
    "data_series = pd.Series(data, index = indices)"
   ]
  },
  {
   "cell_type": "markdown",
   "metadata": {},
   "source": [
    "### Using Dictionary with pandas"
   ]
  },
  {
   "cell_type": "code",
   "execution_count": 72,
   "metadata": {},
   "outputs": [
    {
     "name": "stdout",
     "output_type": "stream",
     "text": [
      "Sindh          35000\n",
      "Punjab          4500\n",
      "KPK             3000\n",
      "Balochistan     2000\n",
      "dtype: int64\n",
      "Index(['Sindh', 'Punjab', 'KPK', 'Balochistan'], dtype='object')\n"
     ]
    }
   ],
   "source": [
    "data = { 'Sindh': 35000, 'Punjab': 4500, 'KPK': 3000, 'Balochistan': 2000}\n",
    "tax = pd.Series(data)\n",
    "print(tax)\n",
    "print(tax.index)"
   ]
  },
  {
   "cell_type": "code",
   "execution_count": 3,
   "metadata": {},
   "outputs": [
    {
     "name": "stdout",
     "output_type": "stream",
     "text": [
      "Punjab          4500\n",
      "Sindh          35000\n",
      "KPK             3000\n",
      "Balochistan     2000\n",
      "dtype: int64\n",
      "Index(['Punjab', 'Sindh', 'KPK', 'Balochistan'], dtype='object')\n"
     ]
    }
   ],
   "source": [
    "# Change indices\n",
    "data = { 'Sindh': 35000, 'Punjab': 4500, 'KPK': 3000, 'Balochistan': 2000}\n",
    "tax = pd.Series(data, index = ['Punjab', 'Sindh', 'KPK', 'Balochistan'])\n",
    "print(tax)\n",
    "print(tax.index)"
   ]
  },
  {
   "cell_type": "code",
   "execution_count": 8,
   "metadata": {},
   "outputs": [
    {
     "name": "stdout",
     "output_type": "stream",
     "text": [
      "State Name\n",
      "Punjab          4500.0\n",
      "Sindh          35000.0\n",
      "KPK             3000.0\n",
      "Balochistan     2000.0\n",
      "GB                 NaN\n",
      "Name: State Tax Paying Capacity, dtype: float64\n",
      "Index(['Punjab', 'Sindh', 'KPK', 'Balochistan', 'GB'], dtype='object', name='State Name')\n"
     ]
    }
   ],
   "source": [
    "tax.name = 'State Tax Paying Capacity'\n",
    "tax.index.name = 'State Name'\n",
    "print(tax)\n",
    "print(tax.index)"
   ]
  },
  {
   "cell_type": "code",
   "execution_count": 7,
   "metadata": {},
   "outputs": [
    {
     "name": "stdout",
     "output_type": "stream",
     "text": [
      "Punjab          4500.0\n",
      "Sindh          35000.0\n",
      "KPK             3000.0\n",
      "Balochistan     2000.0\n",
      "GB                 NaN\n",
      "dtype: float64\n",
      "Punjab         False\n",
      "Sindh          False\n",
      "KPK            False\n",
      "Balochistan    False\n",
      "GB              True\n",
      "dtype: bool\n",
      "Punjab         False\n",
      "Sindh          False\n",
      "KPK            False\n",
      "Balochistan    False\n",
      "GB              True\n",
      "dtype: bool\n"
     ]
    }
   ],
   "source": [
    "data = { 'Sindh': 35000, 'Punjab': 4500, 'KPK': 3000, 'Balochistan': 2000}\n",
    "tax = pd.Series(data, index = ['Punjab', 'Sindh', 'KPK', 'Balochistan', 'GB'])\n",
    "print(tax)\n",
    "print(pd.isnull(tax))\n",
    "print(tax.isnull())"
   ]
  },
  {
   "cell_type": "code",
   "execution_count": 9,
   "metadata": {},
   "outputs": [
    {
     "name": "stdout",
     "output_type": "stream",
     "text": [
      "Mon     20\n",
      "Tue     30\n",
      "Wed     40\n",
      "Thur    50\n",
      "Fri     60\n",
      "Sat     70\n",
      "Sun      0\n",
      "dtype: int64\n"
     ]
    },
    {
     "data": {
      "text/plain": [
       "M    20\n",
       "T    30\n",
       "W    40\n",
       "T    50\n",
       "F    60\n",
       "S    70\n",
       "S     0\n",
       "dtype: int64"
      ]
     },
     "execution_count": 9,
     "metadata": {},
     "output_type": "execute_result"
    }
   ],
   "source": [
    "sales = pd.Series([20, 30, 40, 50, 60, 70, 0], index = ['Mon', 'Tue', 'Wed', 'Thur', 'Fri', 'Sat', 'Sun'])\n",
    "print(sales)\n",
    "sales.index = ['M', 'T', 'W', 'T', 'F', 'S', 'S']\n",
    "sales"
   ]
  },
  {
   "cell_type": "code",
   "execution_count": null,
   "metadata": {},
   "outputs": [],
   "source": []
  }
 ],
 "metadata": {
  "kernelspec": {
   "display_name": "Python 3",
   "language": "python",
   "name": "python3"
  },
  "language_info": {
   "codemirror_mode": {
    "name": "ipython",
    "version": 3
   },
   "file_extension": ".py",
   "mimetype": "text/x-python",
   "name": "python",
   "nbconvert_exporter": "python",
   "pygments_lexer": "ipython3",
   "version": "3.7.7"
  }
 },
 "nbformat": 4,
 "nbformat_minor": 4
}
