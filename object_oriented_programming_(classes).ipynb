{
 "cells": [
  {
   "cell_type": "markdown",
   "metadata": {},
   "source": [
    "# Classes\n",
    "**Python** is an **object oriented programming language**. This means that almost all the code is implemented using a special construct called classes.\n",
    "Programmers use classes to keep related things together. This is done using the keyword **class**, which is a grouping.\n",
    "\n",
    "**Class** is a blueprint/template of something.\n",
    "\n",
    "**Class** may also be defined as something that can be followed to create objects and instances"
   ]
  },
  {
   "cell_type": "code",
   "execution_count": 37,
   "metadata": {},
   "outputs": [],
   "source": [
    "# define a class\n",
    "class Car():\n",
    "    \n",
    "    def __init__(self, make, model, year):\n",
    "        self.make = make\n",
    "        self.model = model\n",
    "        self.year = year\n",
    "        self.battery = \"200amp\"  # default attribute\n",
    "    \n",
    "    def description(self):\n",
    "        \"\"\"\n",
    "            Description of the car\n",
    "        \"\"\"\n",
    "        print(f\"The make of car is {self.make}\")\n",
    "        print(f\"The model of car is {self.model}\")\n",
    "        print(f\"The year of car is {self.year}\")\n",
    "    \n",
    "    def move(self):\n",
    "        \"\"\"\n",
    "            Move car\n",
    "        \"\"\"\n",
    "        print(f\"{self.make} is moving with speed\")\n",
    "    \n",
    "    def apply_break(self):\n",
    "        \"\"\"\n",
    "            Apply breaks to stop the car\n",
    "        \"\"\"\n",
    "        print(f\"{self.model} has applied breaks\")\n",
    "    \n",
    "    def describe_battery(self):\n",
    "        print(f\"The battery of car is {self.battery}\")\n",
    "    \n",
    "    def set_battery_size(self, size):\n",
    "        self.battery = size\n",
    "    \n",
    "    def get_battery_size(self):\n",
    "        print(f\"The size of you cars' battery is {self.battery}\")"
   ]
  },
  {
   "cell_type": "code",
   "execution_count": 38,
   "metadata": {},
   "outputs": [],
   "source": [
    "# create an instance/object of a class\n",
    "car = Car(\"Honda\", \"City\", 2019)"
   ]
  },
  {
   "cell_type": "code",
   "execution_count": 39,
   "metadata": {},
   "outputs": [],
   "source": [
    "car2 = Car(\"Suzuki\", \"Alto\", 2017)"
   ]
  },
  {
   "cell_type": "code",
   "execution_count": 15,
   "metadata": {},
   "outputs": [
    {
     "data": {
      "text/plain": [
       "'Honda'"
      ]
     },
     "execution_count": 15,
     "metadata": {},
     "output_type": "execute_result"
    }
   ],
   "source": [
    "car.make"
   ]
  },
  {
   "cell_type": "code",
   "execution_count": 11,
   "metadata": {},
   "outputs": [
    {
     "data": {
      "text/plain": [
       "'Suzuki'"
      ]
     },
     "execution_count": 11,
     "metadata": {},
     "output_type": "execute_result"
    }
   ],
   "source": [
    "car2.make"
   ]
  },
  {
   "cell_type": "code",
   "execution_count": 16,
   "metadata": {},
   "outputs": [
    {
     "name": "stdout",
     "output_type": "stream",
     "text": [
      "The make of car is Suzuki\n",
      "The model of car is Alto\n",
      "The year of car is 2017\n"
     ]
    }
   ],
   "source": [
    "car2.description()"
   ]
  },
  {
   "cell_type": "code",
   "execution_count": 17,
   "metadata": {},
   "outputs": [
    {
     "name": "stdout",
     "output_type": "stream",
     "text": [
      "The make of car is Honda\n",
      "The model of car is City\n",
      "The year of car is 2019\n"
     ]
    }
   ],
   "source": [
    "car.description()"
   ]
  },
  {
   "cell_type": "markdown",
   "metadata": {},
   "source": [
    "## Changing an attributes value"
   ]
  },
  {
   "cell_type": "markdown",
   "metadata": {},
   "source": [
    "1. Direct hit the attribute\n",
    "2. Via function (get, set)"
   ]
  },
  {
   "cell_type": "markdown",
   "metadata": {},
   "source": [
    "### Changing attributes value by directly hitting the attribute"
   ]
  },
  {
   "cell_type": "code",
   "execution_count": 21,
   "metadata": {},
   "outputs": [
    {
     "data": {
      "text/plain": [
       "'Honda'"
      ]
     },
     "execution_count": 21,
     "metadata": {},
     "output_type": "execute_result"
    }
   ],
   "source": [
    "car.make"
   ]
  },
  {
   "cell_type": "code",
   "execution_count": 22,
   "metadata": {},
   "outputs": [],
   "source": [
    "car.make = \"Yamaha\""
   ]
  },
  {
   "cell_type": "code",
   "execution_count": 23,
   "metadata": {},
   "outputs": [
    {
     "data": {
      "text/plain": [
       "'Yamaha'"
      ]
     },
     "execution_count": 23,
     "metadata": {},
     "output_type": "execute_result"
    }
   ],
   "source": [
    "car.make"
   ]
  },
  {
   "cell_type": "code",
   "execution_count": 25,
   "metadata": {},
   "outputs": [
    {
     "data": {
      "text/plain": [
       "'Toyota'"
      ]
     },
     "execution_count": 25,
     "metadata": {},
     "output_type": "execute_result"
    }
   ],
   "source": [
    "car2.make = \"Toyota\"\n",
    "car2.make"
   ]
  },
  {
   "cell_type": "code",
   "execution_count": 33,
   "metadata": {},
   "outputs": [
    {
     "data": {
      "text/plain": [
       "'200amp'"
      ]
     },
     "execution_count": 33,
     "metadata": {},
     "output_type": "execute_result"
    }
   ],
   "source": [
    "car.battery"
   ]
  },
  {
   "cell_type": "code",
   "execution_count": 34,
   "metadata": {},
   "outputs": [
    {
     "data": {
      "text/plain": [
       "'200amp'"
      ]
     },
     "execution_count": 34,
     "metadata": {},
     "output_type": "execute_result"
    }
   ],
   "source": [
    "car2.battery"
   ]
  },
  {
   "cell_type": "code",
   "execution_count": 35,
   "metadata": {},
   "outputs": [],
   "source": [
    "car.battery = \"300amp\""
   ]
  },
  {
   "cell_type": "code",
   "execution_count": 36,
   "metadata": {},
   "outputs": [
    {
     "data": {
      "text/plain": [
       "'300amp'"
      ]
     },
     "execution_count": 36,
     "metadata": {},
     "output_type": "execute_result"
    }
   ],
   "source": [
    "car.battery"
   ]
  },
  {
   "cell_type": "markdown",
   "metadata": {},
   "source": [
    "### Changing attributes value using functions"
   ]
  },
  {
   "cell_type": "code",
   "execution_count": 40,
   "metadata": {},
   "outputs": [
    {
     "name": "stdout",
     "output_type": "stream",
     "text": [
      "The size of you cars' battery is 200amp\n"
     ]
    }
   ],
   "source": [
    "car.get_battery_size()"
   ]
  },
  {
   "cell_type": "code",
   "execution_count": 41,
   "metadata": {},
   "outputs": [
    {
     "name": "stdout",
     "output_type": "stream",
     "text": [
      "The size of you cars' battery is 200amp\n"
     ]
    }
   ],
   "source": [
    "car2.get_battery_size()"
   ]
  },
  {
   "cell_type": "code",
   "execution_count": 42,
   "metadata": {},
   "outputs": [],
   "source": [
    "car2.set_battery_size(\"500amp\")"
   ]
  },
  {
   "cell_type": "code",
   "execution_count": 43,
   "metadata": {},
   "outputs": [
    {
     "name": "stdout",
     "output_type": "stream",
     "text": [
      "The size of you cars' battery is 500amp\n"
     ]
    }
   ],
   "source": [
    "car2.get_battery_size()"
   ]
  }
 ],
 "metadata": {
  "kernelspec": {
   "display_name": "Python 3",
   "language": "python",
   "name": "python3"
  },
  "language_info": {
   "codemirror_mode": {
    "name": "ipython",
    "version": 3
   },
   "file_extension": ".py",
   "mimetype": "text/x-python",
   "name": "python",
   "nbconvert_exporter": "python",
   "pygments_lexer": "ipython3",
   "version": "3.7.3"
  }
 },
 "nbformat": 4,
 "nbformat_minor": 2
}
